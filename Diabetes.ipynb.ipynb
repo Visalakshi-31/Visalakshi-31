{
  "nbformat": 4,
  "nbformat_minor": 0,
  "metadata": {
    "colab": {
      "provenance": []
    },
    "kernelspec": {
      "name": "python3",
      "display_name": "Python 3"
    },
    "language_info": {
      "name": "python"
    }
  },
  "cells": [
    {
      "cell_type": "code",
      "execution_count": 42,
      "metadata": {
        "id": "B7gLnRPwfT5y"
      },
      "outputs": [],
      "source": [
        "import tensorflow as tf\n",
        "import keras \n",
        "from keras.models import Sequential\n",
        "from keras.layers import Dense , Dropout , Flatten\n",
        "from keras.layers import Conv2D , MaxPooling2D\n",
        "from keras import backend as k\n",
        "from keras.models import load_model\n",
        "import numpy as np\n",
        "import matplotlib.pyplot as plt\n",
        "import pandas as pd "
      ]
    },
    {
      "cell_type": "code",
      "source": [
        "df = pd.read_csv( \"diabetes.csv\" )"
      ],
      "metadata": {
        "id": "qT5Wfc04fyzP"
      },
      "execution_count": 43,
      "outputs": []
    },
    {
      "cell_type": "code",
      "source": [
        "df.head()"
      ],
      "metadata": {
        "colab": {
          "base_uri": "https://localhost:8080/",
          "height": 250
        },
        "id": "tngpIhhUhH5Z",
        "outputId": "b66707c7-ceb9-4bb4-bdaa-28ff8bdbd9ee"
      },
      "execution_count": 44,
      "outputs": [
        {
          "output_type": "execute_result",
          "data": {
            "text/plain": [
              "   Pregnancies  Glucose  BloodPressure  SkinThickness  Insulin   BMI  \\\n",
              "0            6      148             72             35        0  33.6   \n",
              "1            1       85             66             29        0  26.6   \n",
              "2            8      183             64              0        0  23.3   \n",
              "3            1       89             66             23       94  28.1   \n",
              "4            0      137             40             35      168  43.1   \n",
              "\n",
              "   DiabetesPedigreeFunction  Age  Outcome  \n",
              "0                     0.627   50        1  \n",
              "1                     0.351   31        0  \n",
              "2                     0.672   32        1  \n",
              "3                     0.167   21        0  \n",
              "4                     2.288   33        1  "
            ],
            "text/html": [
              "\n",
              "  <div id=\"df-10d8c037-0b30-4569-af06-f004f74ab556\">\n",
              "    <div class=\"colab-df-container\">\n",
              "      <div>\n",
              "<style scoped>\n",
              "    .dataframe tbody tr th:only-of-type {\n",
              "        vertical-align: middle;\n",
              "    }\n",
              "\n",
              "    .dataframe tbody tr th {\n",
              "        vertical-align: top;\n",
              "    }\n",
              "\n",
              "    .dataframe thead th {\n",
              "        text-align: right;\n",
              "    }\n",
              "</style>\n",
              "<table border=\"1\" class=\"dataframe\">\n",
              "  <thead>\n",
              "    <tr style=\"text-align: right;\">\n",
              "      <th></th>\n",
              "      <th>Pregnancies</th>\n",
              "      <th>Glucose</th>\n",
              "      <th>BloodPressure</th>\n",
              "      <th>SkinThickness</th>\n",
              "      <th>Insulin</th>\n",
              "      <th>BMI</th>\n",
              "      <th>DiabetesPedigreeFunction</th>\n",
              "      <th>Age</th>\n",
              "      <th>Outcome</th>\n",
              "    </tr>\n",
              "  </thead>\n",
              "  <tbody>\n",
              "    <tr>\n",
              "      <th>0</th>\n",
              "      <td>6</td>\n",
              "      <td>148</td>\n",
              "      <td>72</td>\n",
              "      <td>35</td>\n",
              "      <td>0</td>\n",
              "      <td>33.6</td>\n",
              "      <td>0.627</td>\n",
              "      <td>50</td>\n",
              "      <td>1</td>\n",
              "    </tr>\n",
              "    <tr>\n",
              "      <th>1</th>\n",
              "      <td>1</td>\n",
              "      <td>85</td>\n",
              "      <td>66</td>\n",
              "      <td>29</td>\n",
              "      <td>0</td>\n",
              "      <td>26.6</td>\n",
              "      <td>0.351</td>\n",
              "      <td>31</td>\n",
              "      <td>0</td>\n",
              "    </tr>\n",
              "    <tr>\n",
              "      <th>2</th>\n",
              "      <td>8</td>\n",
              "      <td>183</td>\n",
              "      <td>64</td>\n",
              "      <td>0</td>\n",
              "      <td>0</td>\n",
              "      <td>23.3</td>\n",
              "      <td>0.672</td>\n",
              "      <td>32</td>\n",
              "      <td>1</td>\n",
              "    </tr>\n",
              "    <tr>\n",
              "      <th>3</th>\n",
              "      <td>1</td>\n",
              "      <td>89</td>\n",
              "      <td>66</td>\n",
              "      <td>23</td>\n",
              "      <td>94</td>\n",
              "      <td>28.1</td>\n",
              "      <td>0.167</td>\n",
              "      <td>21</td>\n",
              "      <td>0</td>\n",
              "    </tr>\n",
              "    <tr>\n",
              "      <th>4</th>\n",
              "      <td>0</td>\n",
              "      <td>137</td>\n",
              "      <td>40</td>\n",
              "      <td>35</td>\n",
              "      <td>168</td>\n",
              "      <td>43.1</td>\n",
              "      <td>2.288</td>\n",
              "      <td>33</td>\n",
              "      <td>1</td>\n",
              "    </tr>\n",
              "  </tbody>\n",
              "</table>\n",
              "</div>\n",
              "      <button class=\"colab-df-convert\" onclick=\"convertToInteractive('df-10d8c037-0b30-4569-af06-f004f74ab556')\"\n",
              "              title=\"Convert this dataframe to an interactive table.\"\n",
              "              style=\"display:none;\">\n",
              "        \n",
              "  <svg xmlns=\"http://www.w3.org/2000/svg\" height=\"24px\"viewBox=\"0 0 24 24\"\n",
              "       width=\"24px\">\n",
              "    <path d=\"M0 0h24v24H0V0z\" fill=\"none\"/>\n",
              "    <path d=\"M18.56 5.44l.94 2.06.94-2.06 2.06-.94-2.06-.94-.94-2.06-.94 2.06-2.06.94zm-11 1L8.5 8.5l.94-2.06 2.06-.94-2.06-.94L8.5 2.5l-.94 2.06-2.06.94zm10 10l.94 2.06.94-2.06 2.06-.94-2.06-.94-.94-2.06-.94 2.06-2.06.94z\"/><path d=\"M17.41 7.96l-1.37-1.37c-.4-.4-.92-.59-1.43-.59-.52 0-1.04.2-1.43.59L10.3 9.45l-7.72 7.72c-.78.78-.78 2.05 0 2.83L4 21.41c.39.39.9.59 1.41.59.51 0 1.02-.2 1.41-.59l7.78-7.78 2.81-2.81c.8-.78.8-2.07 0-2.86zM5.41 20L4 18.59l7.72-7.72 1.47 1.35L5.41 20z\"/>\n",
              "  </svg>\n",
              "      </button>\n",
              "      \n",
              "  <style>\n",
              "    .colab-df-container {\n",
              "      display:flex;\n",
              "      flex-wrap:wrap;\n",
              "      gap: 12px;\n",
              "    }\n",
              "\n",
              "    .colab-df-convert {\n",
              "      background-color: #E8F0FE;\n",
              "      border: none;\n",
              "      border-radius: 50%;\n",
              "      cursor: pointer;\n",
              "      display: none;\n",
              "      fill: #1967D2;\n",
              "      height: 32px;\n",
              "      padding: 0 0 0 0;\n",
              "      width: 32px;\n",
              "    }\n",
              "\n",
              "    .colab-df-convert:hover {\n",
              "      background-color: #E2EBFA;\n",
              "      box-shadow: 0px 1px 2px rgba(60, 64, 67, 0.3), 0px 1px 3px 1px rgba(60, 64, 67, 0.15);\n",
              "      fill: #174EA6;\n",
              "    }\n",
              "\n",
              "    [theme=dark] .colab-df-convert {\n",
              "      background-color: #3B4455;\n",
              "      fill: #D2E3FC;\n",
              "    }\n",
              "\n",
              "    [theme=dark] .colab-df-convert:hover {\n",
              "      background-color: #434B5C;\n",
              "      box-shadow: 0px 1px 3px 1px rgba(0, 0, 0, 0.15);\n",
              "      filter: drop-shadow(0px 1px 2px rgba(0, 0, 0, 0.3));\n",
              "      fill: #FFFFFF;\n",
              "    }\n",
              "  </style>\n",
              "\n",
              "      <script>\n",
              "        const buttonEl =\n",
              "          document.querySelector('#df-10d8c037-0b30-4569-af06-f004f74ab556 button.colab-df-convert');\n",
              "        buttonEl.style.display =\n",
              "          google.colab.kernel.accessAllowed ? 'block' : 'none';\n",
              "\n",
              "        async function convertToInteractive(key) {\n",
              "          const element = document.querySelector('#df-10d8c037-0b30-4569-af06-f004f74ab556');\n",
              "          const dataTable =\n",
              "            await google.colab.kernel.invokeFunction('convertToInteractive',\n",
              "                                                     [key], {});\n",
              "          if (!dataTable) return;\n",
              "\n",
              "          const docLinkHtml = 'Like what you see? Visit the ' +\n",
              "            '<a target=\"_blank\" href=https://colab.research.google.com/notebooks/data_table.ipynb>data table notebook</a>'\n",
              "            + ' to learn more about interactive tables.';\n",
              "          element.innerHTML = '';\n",
              "          dataTable['output_type'] = 'display_data';\n",
              "          await google.colab.output.renderOutput(dataTable, element);\n",
              "          const docLink = document.createElement('div');\n",
              "          docLink.innerHTML = docLinkHtml;\n",
              "          element.appendChild(docLink);\n",
              "        }\n",
              "      </script>\n",
              "    </div>\n",
              "  </div>\n",
              "  "
            ]
          },
          "metadata": {},
          "execution_count": 44
        }
      ]
    },
    {
      "cell_type": "code",
      "source": [
        "x = df.drop('Outcome',axis=1)\n",
        "y = df['Outcome']"
      ],
      "metadata": {
        "id": "5OwDJHojhL_x"
      },
      "execution_count": 45,
      "outputs": []
    },
    {
      "cell_type": "code",
      "source": [
        "x= df.iloc[:,0:8]\n",
        "y= df.iloc[:,-1]"
      ],
      "metadata": {
        "id": "CnOrpMZfmMcE"
      },
      "execution_count": 46,
      "outputs": []
    },
    {
      "cell_type": "code",
      "source": [
        "x.shape\n"
      ],
      "metadata": {
        "colab": {
          "base_uri": "https://localhost:8080/"
        },
        "id": "KbzrOvUgj4Xs",
        "outputId": "7ec20932-e432-4dd2-d9eb-e0a1cbd81fee"
      },
      "execution_count": 47,
      "outputs": [
        {
          "output_type": "execute_result",
          "data": {
            "text/plain": [
              "(768, 8)"
            ]
          },
          "metadata": {},
          "execution_count": 47
        }
      ]
    },
    {
      "cell_type": "code",
      "source": [
        "y.shape"
      ],
      "metadata": {
        "colab": {
          "base_uri": "https://localhost:8080/"
        },
        "id": "FvDyhU6pmcJ-",
        "outputId": "8b393e15-885e-49f8-df83-a2b12db6ace7"
      },
      "execution_count": 48,
      "outputs": [
        {
          "output_type": "execute_result",
          "data": {
            "text/plain": [
              "(768,)"
            ]
          },
          "metadata": {},
          "execution_count": 48
        }
      ]
    },
    {
      "cell_type": "code",
      "source": [
        "from sklearn.model_selection import train_test_split\n",
        "x_train, x_test, y_train, y_test = train_test_split(x, y, test_size = 0.4, random_state = 12)"
      ],
      "metadata": {
        "id": "urwn9AWwhe59"
      },
      "execution_count": 49,
      "outputs": []
    },
    {
      "cell_type": "code",
      "source": [
        "print(x_train)"
      ],
      "metadata": {
        "colab": {
          "base_uri": "https://localhost:8080/"
        },
        "id": "uElCIINXkoMF",
        "outputId": "23eaf259-a669-4457-93a9-6fb1bf2317a3"
      },
      "execution_count": 50,
      "outputs": [
        {
          "output_type": "stream",
          "name": "stdout",
          "text": [
            "     Pregnancies  Glucose  BloodPressure  SkinThickness  Insulin   BMI  \\\n",
            "7             10      115              0              0        0  35.3   \n",
            "239            0      104             76              0        0  18.4   \n",
            "292            2      128             78             37      182  43.3   \n",
            "87             2      100             68             25       71  38.5   \n",
            "599            1      109             38             18      120  23.1   \n",
            "..           ...      ...            ...            ...      ...   ...   \n",
            "642            6      147             80              0        0  29.5   \n",
            "241            4       91             70             32       88  33.1   \n",
            "253            0       86             68             32        0  35.8   \n",
            "390            1      100             66             29      196  32.0   \n",
            "667           10      111             70             27        0  27.5   \n",
            "\n",
            "     DiabetesPedigreeFunction  Age  \n",
            "7                       0.134   29  \n",
            "239                     0.582   27  \n",
            "292                     1.224   31  \n",
            "87                      0.324   26  \n",
            "599                     0.407   26  \n",
            "..                        ...  ...  \n",
            "642                     0.178   50  \n",
            "241                     0.446   22  \n",
            "253                     0.238   25  \n",
            "390                     0.444   42  \n",
            "667                     0.141   40  \n",
            "\n",
            "[460 rows x 8 columns]\n"
          ]
        }
      ]
    },
    {
      "cell_type": "code",
      "source": [
        "model=Sequential()\n",
        "model.add(Dense(12,input_dim=8, activation='relu'))\n",
        "model.add(Dense(10,input_dim=8, activation='relu'))\n",
        "model.add(Dense(1,input_dim=8, activation='sigmoid'))\n",
        "\n"
      ],
      "metadata": {
        "id": "ud0uuQb0k14_"
      },
      "execution_count": 51,
      "outputs": []
    },
    {
      "cell_type": "code",
      "source": [
        "model.compile(loss='binary_crossentropy',optimizer='adam',metrics=['accuracy'])"
      ],
      "metadata": {
        "id": "8KbwI-sDmEPL"
      },
      "execution_count": 52,
      "outputs": []
    },
    {
      "cell_type": "code",
      "source": [
        "model.fit(x_train,y_train , batch_size=10,epochs=15)"
      ],
      "metadata": {
        "colab": {
          "base_uri": "https://localhost:8080/"
        },
        "id": "9Gi_2ej5o-oF",
        "outputId": "68bfbe7d-ad29-4ee7-fa7c-53a1cdeaff82"
      },
      "execution_count": 53,
      "outputs": [
        {
          "output_type": "stream",
          "name": "stdout",
          "text": [
            "Epoch 1/15\n",
            "46/46 [==============================] - 1s 4ms/step - loss: 6.9299 - accuracy: 0.4870\n",
            "Epoch 2/15\n",
            "46/46 [==============================] - 0s 3ms/step - loss: 3.3605 - accuracy: 0.4913\n",
            "Epoch 3/15\n",
            "46/46 [==============================] - 0s 3ms/step - loss: 2.3533 - accuracy: 0.5239\n",
            "Epoch 4/15\n",
            "46/46 [==============================] - 0s 3ms/step - loss: 1.7822 - accuracy: 0.5717\n",
            "Epoch 5/15\n",
            "46/46 [==============================] - 0s 3ms/step - loss: 1.4577 - accuracy: 0.5478\n",
            "Epoch 6/15\n",
            "46/46 [==============================] - 0s 4ms/step - loss: 1.2917 - accuracy: 0.5609\n",
            "Epoch 7/15\n",
            "46/46 [==============================] - 0s 3ms/step - loss: 1.1127 - accuracy: 0.6087\n",
            "Epoch 8/15\n",
            "46/46 [==============================] - 0s 3ms/step - loss: 0.9554 - accuracy: 0.6348\n",
            "Epoch 9/15\n",
            "46/46 [==============================] - 0s 4ms/step - loss: 0.9014 - accuracy: 0.6630\n",
            "Epoch 10/15\n",
            "46/46 [==============================] - 0s 3ms/step - loss: 0.8256 - accuracy: 0.6696\n",
            "Epoch 11/15\n",
            "46/46 [==============================] - 0s 3ms/step - loss: 0.8068 - accuracy: 0.6500\n",
            "Epoch 12/15\n",
            "46/46 [==============================] - 0s 3ms/step - loss: 0.7465 - accuracy: 0.6674\n",
            "Epoch 13/15\n",
            "46/46 [==============================] - 0s 3ms/step - loss: 0.7795 - accuracy: 0.6609\n",
            "Epoch 14/15\n",
            "46/46 [==============================] - 0s 3ms/step - loss: 0.7034 - accuracy: 0.7000\n",
            "Epoch 15/15\n",
            "46/46 [==============================] - 0s 3ms/step - loss: 0.7249 - accuracy: 0.6500\n"
          ]
        },
        {
          "output_type": "execute_result",
          "data": {
            "text/plain": [
              "<keras.callbacks.History at 0x7fe7bba6c710>"
            ]
          },
          "metadata": {},
          "execution_count": 53
        }
      ]
    },
    {
      "cell_type": "code",
      "source": [
        "prediction=model.predict(x_test)"
      ],
      "metadata": {
        "colab": {
          "base_uri": "https://localhost:8080/"
        },
        "id": "_1xcF29Il7IJ",
        "outputId": "4dca586a-2a3c-484c-f5a9-6fda71b39a54"
      },
      "execution_count": 54,
      "outputs": [
        {
          "output_type": "stream",
          "name": "stdout",
          "text": [
            "10/10 [==============================] - 0s 2ms/step\n"
          ]
        }
      ]
    },
    {
      "cell_type": "code",
      "source": [
        "print(prediction)"
      ],
      "metadata": {
        "colab": {
          "base_uri": "https://localhost:8080/"
        },
        "id": "n45-LlI3psU_",
        "outputId": "dd740399-b018-49b6-a29e-cbfe7b33a5a6"
      },
      "execution_count": 55,
      "outputs": [
        {
          "output_type": "stream",
          "name": "stdout",
          "text": [
            "[[8.54272321e-02]\n",
            " [9.60464060e-01]\n",
            " [7.74094820e-01]\n",
            " [5.45717955e-01]\n",
            " [3.03288370e-01]\n",
            " [3.59968126e-01]\n",
            " [7.76708543e-01]\n",
            " [3.59630108e-01]\n",
            " [5.79492673e-02]\n",
            " [6.37067307e-04]\n",
            " [6.15108013e-01]\n",
            " [1.65474731e-02]\n",
            " [4.95997109e-02]\n",
            " [1.13023847e-01]\n",
            " [3.95415276e-01]\n",
            " [8.53343382e-02]\n",
            " [7.48914897e-01]\n",
            " [6.63078010e-01]\n",
            " [4.87218916e-01]\n",
            " [1.21465303e-01]\n",
            " [1.55044228e-01]\n",
            " [9.81026769e-01]\n",
            " [1.94488525e-01]\n",
            " [6.81938827e-01]\n",
            " [7.81243086e-01]\n",
            " [4.52988088e-01]\n",
            " [7.34680414e-01]\n",
            " [5.40757000e-01]\n",
            " [7.23833442e-01]\n",
            " [3.05889454e-02]\n",
            " [9.67123389e-01]\n",
            " [9.79002714e-01]\n",
            " [3.23862910e-01]\n",
            " [5.69195092e-01]\n",
            " [5.43526590e-01]\n",
            " [3.09684604e-01]\n",
            " [1.73839837e-01]\n",
            " [9.49116409e-01]\n",
            " [6.26636684e-01]\n",
            " [5.82679883e-02]\n",
            " [5.97596049e-01]\n",
            " [2.57891804e-01]\n",
            " [6.95086241e-01]\n",
            " [7.31684983e-01]\n",
            " [2.78604537e-01]\n",
            " [3.16331118e-01]\n",
            " [4.59888518e-01]\n",
            " [3.54046851e-01]\n",
            " [2.06278190e-01]\n",
            " [1.87115729e-01]\n",
            " [7.29667582e-03]\n",
            " [2.24281088e-01]\n",
            " [5.63674927e-01]\n",
            " [9.99996662e-01]\n",
            " [6.51697740e-02]\n",
            " [3.99809569e-01]\n",
            " [1.76190748e-03]\n",
            " [5.65356612e-01]\n",
            " [4.01558220e-01]\n",
            " [5.99133074e-01]\n",
            " [4.57153693e-02]\n",
            " [6.58249557e-01]\n",
            " [6.37793183e-01]\n",
            " [3.73832285e-01]\n",
            " [4.85076308e-01]\n",
            " [4.82539862e-01]\n",
            " [8.45945105e-02]\n",
            " [3.80331248e-01]\n",
            " [5.01004755e-01]\n",
            " [4.16181684e-01]\n",
            " [1.56986728e-01]\n",
            " [3.96633536e-01]\n",
            " [9.66952503e-01]\n",
            " [3.88514251e-01]\n",
            " [1.78849578e-01]\n",
            " [8.26365471e-01]\n",
            " [7.94214964e-01]\n",
            " [6.70474470e-01]\n",
            " [3.55102152e-01]\n",
            " [5.86756229e-01]\n",
            " [5.57744205e-01]\n",
            " [2.78153390e-01]\n",
            " [5.92072666e-01]\n",
            " [8.96858126e-02]\n",
            " [8.62973869e-01]\n",
            " [7.35581219e-01]\n",
            " [3.26553911e-01]\n",
            " [2.04946212e-02]\n",
            " [7.18599379e-01]\n",
            " [1.69043347e-01]\n",
            " [2.86398325e-02]\n",
            " [1.27682373e-01]\n",
            " [2.36848697e-01]\n",
            " [4.03912723e-01]\n",
            " [6.37206972e-01]\n",
            " [3.16158563e-01]\n",
            " [5.06807752e-02]\n",
            " [5.03411889e-01]\n",
            " [7.23241806e-01]\n",
            " [2.60103434e-01]\n",
            " [4.15855914e-01]\n",
            " [3.75409424e-01]\n",
            " [2.64414638e-01]\n",
            " [7.36298621e-01]\n",
            " [5.53061128e-01]\n",
            " [3.34252007e-02]\n",
            " [4.22404885e-01]\n",
            " [2.88693726e-01]\n",
            " [9.01444376e-01]\n",
            " [1.14481375e-01]\n",
            " [1.73459753e-01]\n",
            " [1.24329649e-01]\n",
            " [1.84795976e-01]\n",
            " [3.48860860e-01]\n",
            " [7.76976526e-01]\n",
            " [3.32340784e-02]\n",
            " [7.03103244e-01]\n",
            " [3.21559519e-01]\n",
            " [3.99848551e-01]\n",
            " [4.31172729e-01]\n",
            " [7.29462504e-01]\n",
            " [9.35568511e-01]\n",
            " [4.30389792e-01]\n",
            " [1.60683483e-01]\n",
            " [2.28347406e-01]\n",
            " [3.82442027e-01]\n",
            " [5.80903828e-01]\n",
            " [2.14869695e-04]\n",
            " [3.37155938e-01]\n",
            " [2.56448868e-04]\n",
            " [1.25255492e-02]\n",
            " [7.53740966e-01]\n",
            " [3.97658229e-01]\n",
            " [6.55037403e-01]\n",
            " [2.12423399e-01]\n",
            " [3.16800296e-01]\n",
            " [8.46706867e-01]\n",
            " [5.03356040e-01]\n",
            " [9.38305199e-01]\n",
            " [9.27498639e-01]\n",
            " [2.30363488e-01]\n",
            " [2.88305134e-01]\n",
            " [4.27424103e-01]\n",
            " [7.76314139e-01]\n",
            " [9.95007455e-01]\n",
            " [5.45140915e-02]\n",
            " [2.45397463e-01]\n",
            " [7.18128026e-01]\n",
            " [1.00023262e-01]\n",
            " [9.08626437e-01]\n",
            " [7.84628212e-01]\n",
            " [2.08015025e-01]\n",
            " [2.06567347e-01]\n",
            " [6.54852271e-01]\n",
            " [2.99484968e-01]\n",
            " [2.91154832e-01]\n",
            " [9.74027574e-01]\n",
            " [2.17404366e-01]\n",
            " [3.53574932e-01]\n",
            " [3.81740034e-02]\n",
            " [3.17878276e-01]\n",
            " [4.35868263e-01]\n",
            " [3.98173302e-01]\n",
            " [1.59733221e-01]\n",
            " [3.39362234e-01]\n",
            " [4.50434387e-02]\n",
            " [6.36020601e-01]\n",
            " [2.56623626e-01]\n",
            " [8.15848112e-01]\n",
            " [1.36423530e-02]\n",
            " [4.29428220e-01]\n",
            " [2.58633122e-02]\n",
            " [9.87441987e-02]\n",
            " [8.13095152e-01]\n",
            " [5.64479530e-01]\n",
            " [1.01833969e-01]\n",
            " [1.28176421e-01]\n",
            " [1.25778049e-01]\n",
            " [5.73804200e-01]\n",
            " [2.74965793e-01]\n",
            " [1.79590341e-02]\n",
            " [9.81834829e-01]\n",
            " [8.80106688e-01]\n",
            " [4.75037843e-01]\n",
            " [5.90326369e-01]\n",
            " [8.90178800e-01]\n",
            " [6.14000380e-01]\n",
            " [1.26649663e-01]\n",
            " [9.79747355e-01]\n",
            " [2.02106863e-01]\n",
            " [2.67805755e-01]\n",
            " [1.59130573e-01]\n",
            " [1.69758931e-01]\n",
            " [4.49310303e-01]\n",
            " [3.29909980e-01]\n",
            " [4.86562122e-03]\n",
            " [1.14868440e-01]\n",
            " [9.88513112e-01]\n",
            " [7.31589854e-01]\n",
            " [3.52692604e-01]\n",
            " [5.41683078e-01]\n",
            " [6.78986907e-01]\n",
            " [1.58002257e-01]\n",
            " [2.30011027e-02]\n",
            " [8.12602878e-01]\n",
            " [2.77695984e-01]\n",
            " [8.72807428e-02]\n",
            " [8.82019579e-01]\n",
            " [7.39680231e-01]\n",
            " [1.98849618e-01]\n",
            " [5.55529416e-01]\n",
            " [4.14483964e-01]\n",
            " [9.96106446e-01]\n",
            " [8.45741272e-01]\n",
            " [5.85103929e-01]\n",
            " [2.00161055e-01]\n",
            " [9.59039688e-01]\n",
            " [4.20674711e-01]\n",
            " [4.47990656e-01]\n",
            " [6.55410767e-01]\n",
            " [1.34219319e-01]\n",
            " [3.31189662e-01]\n",
            " [1.12088807e-01]\n",
            " [1.72511429e-01]\n",
            " [6.09811306e-01]\n",
            " [4.83955652e-01]\n",
            " [5.66590726e-01]\n",
            " [4.96602595e-01]\n",
            " [2.65013380e-03]\n",
            " [4.27846313e-01]\n",
            " [9.77106571e-01]\n",
            " [5.36369622e-01]\n",
            " [1.15861721e-01]\n",
            " [9.46398854e-01]\n",
            " [2.61544704e-01]\n",
            " [6.44879699e-01]\n",
            " [2.13389486e-01]\n",
            " [5.28913856e-01]\n",
            " [3.38281155e-01]\n",
            " [2.90239714e-02]\n",
            " [7.67188609e-01]\n",
            " [5.22382379e-01]\n",
            " [6.18024111e-01]\n",
            " [6.28386319e-01]\n",
            " [1.20785364e-04]\n",
            " [2.54236251e-01]\n",
            " [7.94269860e-01]\n",
            " [5.80431700e-01]\n",
            " [9.41410303e-01]\n",
            " [1.27919257e-01]\n",
            " [6.98475122e-01]\n",
            " [8.63839865e-01]\n",
            " [3.64401758e-01]\n",
            " [8.31643462e-01]\n",
            " [1.30349427e-01]\n",
            " [1.21161900e-01]\n",
            " [5.53942025e-01]\n",
            " [3.21419030e-01]\n",
            " [2.13589728e-01]\n",
            " [1.13592476e-01]\n",
            " [1.86153501e-01]\n",
            " [5.61218330e-05]\n",
            " [1.58943519e-01]\n",
            " [4.92675811e-01]\n",
            " [6.22124255e-01]\n",
            " [4.83364999e-01]\n",
            " [2.90988564e-01]\n",
            " [2.24769428e-01]\n",
            " [2.90032089e-01]\n",
            " [2.22240184e-02]\n",
            " [2.25492418e-01]\n",
            " [1.48367062e-01]\n",
            " [5.69123864e-01]\n",
            " [2.18743220e-01]\n",
            " [9.57741141e-01]\n",
            " [9.27542031e-01]\n",
            " [7.70922303e-01]\n",
            " [2.14983732e-01]\n",
            " [7.35047519e-01]\n",
            " [8.88752222e-01]\n",
            " [3.96959633e-01]\n",
            " [6.49942219e-01]\n",
            " [5.43891899e-02]\n",
            " [5.49413264e-01]\n",
            " [8.53625178e-01]\n",
            " [3.98494482e-01]\n",
            " [2.06031948e-01]\n",
            " [7.08664536e-01]\n",
            " [3.88240784e-01]\n",
            " [5.37280142e-01]\n",
            " [4.27540362e-01]\n",
            " [1.49093971e-01]\n",
            " [5.82665682e-01]\n",
            " [9.31307554e-01]\n",
            " [3.54417592e-01]\n",
            " [5.29947758e-01]\n",
            " [8.46766651e-01]\n",
            " [6.40152633e-01]\n",
            " [2.31502622e-01]\n",
            " [6.68012619e-01]\n",
            " [4.69219327e-01]\n",
            " [3.99075970e-02]\n",
            " [3.76754969e-01]\n",
            " [5.94323933e-01]\n",
            " [4.22249138e-02]\n",
            " [8.31118703e-01]\n",
            " [1.66533872e-01]\n",
            " [4.56853472e-02]]\n"
          ]
        }
      ]
    },
    {
      "cell_type": "code",
      "source": [
        "from sklearn import metrics\n",
        "print(\"Accuracy\",metrics.accuracy_score(y_test,prediction.round()))"
      ],
      "metadata": {
        "colab": {
          "base_uri": "https://localhost:8080/"
        },
        "id": "BVObzXv5ptQU",
        "outputId": "95a5e559-5daf-4224-a72f-d408f721fac7"
      },
      "execution_count": 56,
      "outputs": [
        {
          "output_type": "stream",
          "name": "stdout",
          "text": [
            "Accuracy 0.6363636363636364\n"
          ]
        }
      ]
    }
  ]
}