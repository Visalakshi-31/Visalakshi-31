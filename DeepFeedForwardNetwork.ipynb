{
 "cells": [
  {
   "cell_type": "markdown",
   "metadata": {},
   "source": [
    "## Importing the Libraries"
   ]
  },
  {
   "cell_type": "code",
   "execution_count": 17,
   "metadata": {},
   "outputs": [],
   "source": [
    "import tensorflow as tf\n",
    "import keras \n",
    "from keras.models import Sequential\n",
    "from keras.layers import Dense , Dropout , Flatten\n",
    "from keras.layers import Conv2D , MaxPooling2D\n",
    "from keras import backend as k\n",
    "from keras.models import load_model\n",
    "import numpy as np\n",
    "import matplotlib.pyplot as plt\n",
    "import pandas as pd "
   ]
  },
  {
   "cell_type": "markdown",
   "metadata": {},
   "source": [
    "## Loading the Dataset into DataFrame"
   ]
  },
  {
   "cell_type": "code",
   "execution_count": 18,
   "metadata": {},
   "outputs": [],
   "source": [
    "df = pd.read_csv(r\"D:\\DataScience\\Study_Materials\\Deep Learning\\Dataset\\FeedForwardNetwork.csv\")\n"
   ]
  },
  {
   "cell_type": "code",
   "execution_count": 19,
   "metadata": {},
   "outputs": [
    {
     "data": {
      "text/html": [
       "<div>\n",
       "<style scoped>\n",
       "    .dataframe tbody tr th:only-of-type {\n",
       "        vertical-align: middle;\n",
       "    }\n",
       "\n",
       "    .dataframe tbody tr th {\n",
       "        vertical-align: top;\n",
       "    }\n",
       "\n",
       "    .dataframe thead th {\n",
       "        text-align: right;\n",
       "    }\n",
       "</style>\n",
       "<table border=\"1\" class=\"dataframe\">\n",
       "  <thead>\n",
       "    <tr style=\"text-align: right;\">\n",
       "      <th></th>\n",
       "      <th>Area</th>\n",
       "      <th>Perimeter</th>\n",
       "      <th>Cmpactness</th>\n",
       "      <th>Length</th>\n",
       "      <th>Width</th>\n",
       "      <th>Asymmetry</th>\n",
       "      <th>Groove</th>\n",
       "      <th>Classs</th>\n",
       "    </tr>\n",
       "  </thead>\n",
       "  <tbody>\n",
       "    <tr>\n",
       "      <th>0</th>\n",
       "      <td>5.26</td>\n",
       "      <td>14.84</td>\n",
       "      <td>0.8710</td>\n",
       "      <td>5.763</td>\n",
       "      <td>3.312</td>\n",
       "      <td>2.221</td>\n",
       "      <td>5.220</td>\n",
       "      <td>1</td>\n",
       "    </tr>\n",
       "    <tr>\n",
       "      <th>1</th>\n",
       "      <td>14.88</td>\n",
       "      <td>14.57</td>\n",
       "      <td>0.8811</td>\n",
       "      <td>5.554</td>\n",
       "      <td>3.333</td>\n",
       "      <td>1.018</td>\n",
       "      <td>4.956</td>\n",
       "      <td>1</td>\n",
       "    </tr>\n",
       "    <tr>\n",
       "      <th>2</th>\n",
       "      <td>14.29</td>\n",
       "      <td>14.09</td>\n",
       "      <td>0.9050</td>\n",
       "      <td>5.291</td>\n",
       "      <td>3.337</td>\n",
       "      <td>2.699</td>\n",
       "      <td>4.825</td>\n",
       "      <td>1</td>\n",
       "    </tr>\n",
       "    <tr>\n",
       "      <th>3</th>\n",
       "      <td>13.84</td>\n",
       "      <td>13.94</td>\n",
       "      <td>0.8955</td>\n",
       "      <td>5.324</td>\n",
       "      <td>3.379</td>\n",
       "      <td>2.259</td>\n",
       "      <td>4.805</td>\n",
       "      <td>1</td>\n",
       "    </tr>\n",
       "    <tr>\n",
       "      <th>4</th>\n",
       "      <td>16.14</td>\n",
       "      <td>14.99</td>\n",
       "      <td>0.9034</td>\n",
       "      <td>5.658</td>\n",
       "      <td>3.562</td>\n",
       "      <td>1.355</td>\n",
       "      <td>5.175</td>\n",
       "      <td>1</td>\n",
       "    </tr>\n",
       "  </tbody>\n",
       "</table>\n",
       "</div>"
      ],
      "text/plain": [
       "    Area  Perimeter  Cmpactness  Length  Width  Asymmetry  Groove  Classs\n",
       "0   5.26      14.84      0.8710   5.763  3.312      2.221   5.220       1\n",
       "1  14.88      14.57      0.8811   5.554  3.333      1.018   4.956       1\n",
       "2  14.29      14.09      0.9050   5.291  3.337      2.699   4.825       1\n",
       "3  13.84      13.94      0.8955   5.324  3.379      2.259   4.805       1\n",
       "4  16.14      14.99      0.9034   5.658  3.562      1.355   5.175       1"
      ]
     },
     "execution_count": 19,
     "metadata": {},
     "output_type": "execute_result"
    }
   ],
   "source": [
    "df.head()"
   ]
  },
  {
   "cell_type": "markdown",
   "metadata": {},
   "source": [
    "## Split the Dataset"
   ]
  },
  {
   "cell_type": "code",
   "execution_count": 20,
   "metadata": {},
   "outputs": [],
   "source": [
    "x = df.drop('Classs',axis=1)\n",
    "y = df['Classs']"
   ]
  },
  {
   "cell_type": "code",
   "execution_count": 21,
   "metadata": {},
   "outputs": [],
   "source": [
    "x= df.iloc[:,0:7]\n",
    "y= df.iloc[:,-1]"
   ]
  },
  {
   "cell_type": "code",
   "execution_count": 22,
   "metadata": {},
   "outputs": [
    {
     "data": {
      "text/plain": [
       "(210, 7)"
      ]
     },
     "execution_count": 22,
     "metadata": {},
     "output_type": "execute_result"
    }
   ],
   "source": [
    "x.shape"
   ]
  },
  {
   "cell_type": "code",
   "execution_count": 23,
   "metadata": {},
   "outputs": [
    {
     "data": {
      "text/plain": [
       "(210,)"
      ]
     },
     "execution_count": 23,
     "metadata": {},
     "output_type": "execute_result"
    }
   ],
   "source": [
    "y.shape"
   ]
  },
  {
   "cell_type": "code",
   "execution_count": 24,
   "metadata": {},
   "outputs": [],
   "source": [
    "from sklearn.model_selection import train_test_split\n",
    "x_train, x_test, y_train, y_test = train_test_split(x, y, test_size = 0.4, random_state = 12)"
   ]
  },
  {
   "cell_type": "code",
   "execution_count": 29,
   "metadata": {},
   "outputs": [
    {
     "name": "stdout",
     "output_type": "stream",
     "text": [
      "      Area  Perimeter  Cmpactness  Length  Width  Asymmetry  Groove\n",
      "181  12.46      13.41      0.8706   5.236  3.017      4.987   5.147\n",
      "37   17.08      15.38      0.9079   5.832  3.683      2.956   5.484\n",
      "38   14.80      14.52      0.8823   5.656  3.288      3.112   5.309\n",
      "198  12.62      13.67      0.8481   5.410  2.911      3.306   5.231\n",
      "64   12.78      13.57      0.8716   5.262  3.026      1.176   4.782\n",
      "..     ...        ...         ...     ...    ...        ...     ...\n",
      "3    13.84      13.94      0.8955   5.324  3.379      2.259   4.805\n",
      "130  18.30      15.89      0.9108   5.979  3.755      2.837   5.962\n",
      "134  15.56      14.89      0.8823   5.776  3.408      4.972   5.847\n",
      "155  11.19      13.05      0.8253   5.250  2.675      5.813   5.219\n",
      "75   16.77      15.62      0.8638   5.927  3.438      4.920   5.795\n",
      "\n",
      "[126 rows x 7 columns]\n"
     ]
    }
   ],
   "source": [
    "x_train.shape\n",
    "print(x_train)"
   ]
  },
  {
   "cell_type": "code",
   "execution_count": 30,
   "metadata": {},
   "outputs": [
    {
     "name": "stdout",
     "output_type": "stream",
     "text": [
      "181    3\n",
      "37     1\n",
      "38     1\n",
      "198    3\n",
      "64     1\n",
      "      ..\n",
      "3      1\n",
      "130    2\n",
      "134    2\n",
      "155    3\n",
      "75     2\n",
      "Name: Classs, Length: 126, dtype: int64\n"
     ]
    }
   ],
   "source": [
    "y_train.shape\n",
    "print(y_train)"
   ]
  },
  {
   "cell_type": "markdown",
   "metadata": {},
   "source": [
    "## Defining the Model"
   ]
  },
  {
   "cell_type": "code",
   "execution_count": 71,
   "metadata": {},
   "outputs": [],
   "source": [
    "model=Sequential()\n",
    "model.add(Dense(12,input_dim=7, activation='relu'))\n",
    "model.add(Dense(10,input_dim=7, activation='relu'))\n",
    "model.add(Dense(1,input_dim=7, activation='sigmoid'))\n"
   ]
  },
  {
   "cell_type": "markdown",
   "metadata": {},
   "source": [
    "## Compiling the Model"
   ]
  },
  {
   "cell_type": "code",
   "execution_count": 88,
   "metadata": {},
   "outputs": [],
   "source": [
    "model.compile(loss='binary_crossentropy',optimizer='Adam',metrics=['accuracy'])"
   ]
  },
  {
   "cell_type": "markdown",
   "metadata": {},
   "source": [
    "## Training the Model"
   ]
  },
  {
   "cell_type": "code",
   "execution_count": 89,
   "metadata": {},
   "outputs": [
    {
     "name": "stdout",
     "output_type": "stream",
     "text": [
      "Epoch 1/50\n",
      "26/26 [==============================] - 0s 2ms/step - loss: -48885.5703 - accuracy: 0.2937\n",
      "Epoch 2/50\n",
      "26/26 [==============================] - 0s 960us/step - loss: -49737.5156 - accuracy: 0.2937\n",
      "Epoch 3/50\n",
      "26/26 [==============================] - 0s 1ms/step - loss: -50605.3359 - accuracy: 0.2937\n",
      "Epoch 4/50\n",
      "26/26 [==============================] - 0s 2ms/step - loss: -51482.4062 - accuracy: 0.2937\n",
      "Epoch 5/50\n",
      "26/26 [==============================] - 0s 2ms/step - loss: -52374.0586 - accuracy: 0.2937\n",
      "Epoch 6/50\n",
      "26/26 [==============================] - 0s 2ms/step - loss: -53300.5547 - accuracy: 0.2937\n",
      "Epoch 7/50\n",
      "26/26 [==============================] - 0s 1ms/step - loss: -54235.6328 - accuracy: 0.2937\n",
      "Epoch 8/50\n",
      "26/26 [==============================] - 0s 2ms/step - loss: -55183.8711 - accuracy: 0.2937\n",
      "Epoch 9/50\n",
      "26/26 [==============================] - 0s 2ms/step - loss: -56179.8242 - accuracy: 0.2937\n",
      "Epoch 10/50\n",
      "26/26 [==============================] - 0s 720us/step - loss: -57184.6445 - accuracy: 0.2937\n",
      "Epoch 11/50\n",
      "26/26 [==============================] - 0s 643us/step - loss: -58190.2188 - accuracy: 0.2937\n",
      "Epoch 12/50\n",
      "26/26 [==============================] - 0s 5ms/step - loss: -59189.4609 - accuracy: 0.2937\n",
      "Epoch 13/50\n",
      "26/26 [==============================] - 0s 969us/step - loss: -60200.2969 - accuracy: 0.2937\n",
      "Epoch 14/50\n",
      "26/26 [==============================] - 0s 2ms/step - loss: -61231.9531 - accuracy: 0.2937\n",
      "Epoch 15/50\n",
      "26/26 [==============================] - 0s 1ms/step - loss: -62288.3242 - accuracy: 0.2937\n",
      "Epoch 16/50\n",
      "26/26 [==============================] - 0s 1ms/step - loss: -63344.9727 - accuracy: 0.2937\n",
      "Epoch 17/50\n",
      "26/26 [==============================] - 0s 1ms/step - loss: -64421.4531 - accuracy: 0.2937\n",
      "Epoch 18/50\n",
      "26/26 [==============================] - 0s 2ms/step - loss: -65544.0156 - accuracy: 0.2937\n",
      "Epoch 19/50\n",
      "26/26 [==============================] - 0s 1ms/step - loss: -66665.1562 - accuracy: 0.2937 \n",
      "Epoch 20/50\n",
      "26/26 [==============================] - 0s 1ms/step - loss: -67859.2344 - accuracy: 0.2937\n",
      "Epoch 21/50\n",
      "26/26 [==============================] - 0s 1ms/step - loss: -69027.6016 - accuracy: 0.2937\n",
      "Epoch 22/50\n",
      "26/26 [==============================] - 0s 1ms/step - loss: -70220.1562 - accuracy: 0.2937\n",
      "Epoch 23/50\n",
      "26/26 [==============================] - 0s 1ms/step - loss: -71429.5859 - accuracy: 0.2937\n",
      "Epoch 24/50\n",
      "26/26 [==============================] - 0s 1ms/step - loss: -72618.6953 - accuracy: 0.2937\n",
      "Epoch 25/50\n",
      "26/26 [==============================] - 0s 1ms/step - loss: -73824.6641 - accuracy: 0.2937\n",
      "Epoch 26/50\n",
      "26/26 [==============================] - 0s 1ms/step - loss: -75064.5078 - accuracy: 0.2937\n",
      "Epoch 27/50\n",
      "26/26 [==============================] - 0s 1ms/step - loss: -76333.3906 - accuracy: 0.2937\n",
      "Epoch 28/50\n",
      "26/26 [==============================] - 0s 1ms/step - loss: -77630.4219 - accuracy: 0.2937\n",
      "Epoch 29/50\n",
      "26/26 [==============================] - 0s 1ms/step - loss: -78947.8516 - accuracy: 0.2937\n",
      "Epoch 30/50\n",
      "26/26 [==============================] - 0s 1ms/step - loss: -80311.6016 - accuracy: 0.2937 \n",
      "Epoch 31/50\n",
      "26/26 [==============================] - 0s 1ms/step - loss: -81689.6484 - accuracy: 0.2937\n",
      "Epoch 32/50\n",
      "26/26 [==============================] - 0s 901us/step - loss: -83080.8438 - accuracy: 0.2937\n",
      "Epoch 33/50\n",
      "26/26 [==============================] - 0s 1ms/step - loss: -84501.6094 - accuracy: 0.2937\n",
      "Epoch 34/50\n",
      "26/26 [==============================] - 0s 960us/step - loss: -85932.1016 - accuracy: 0.2937\n",
      "Epoch 35/50\n",
      "26/26 [==============================] - 0s 960us/step - loss: -87361.0234 - accuracy: 0.2937\n",
      "Epoch 36/50\n",
      "26/26 [==============================] - 0s 1ms/step - loss: -88836.1406 - accuracy: 0.2937 \n",
      "Epoch 37/50\n",
      "26/26 [==============================] - 0s 1ms/step - loss: -90345.9922 - accuracy: 0.2937\n",
      "Epoch 38/50\n",
      "26/26 [==============================] - 0s 1ms/step - loss: -91823.2422 - accuracy: 0.2937\n",
      "Epoch 39/50\n",
      "26/26 [==============================] - 0s 2ms/step - loss: -93368.2188 - accuracy: 0.2937\n",
      "Epoch 40/50\n",
      "26/26 [==============================] - 0s 1ms/step - loss: -94895.4609 - accuracy: 0.2937\n",
      "Epoch 41/50\n",
      "26/26 [==============================] - 0s 2ms/step - loss: -96496.1484 - accuracy: 0.2937 \n",
      "Epoch 42/50\n",
      "26/26 [==============================] - 0s 1ms/step - loss: -98051.4297 - accuracy: 0.2937\n",
      "Epoch 43/50\n",
      "26/26 [==============================] - 0s 2ms/step - loss: -99669.9609 - accuracy: 0.2937 \n",
      "Epoch 44/50\n",
      "26/26 [==============================] - 0s 1ms/step - loss: -101286.3828 - accuracy: 0.2937\n",
      "Epoch 45/50\n",
      "26/26 [==============================] - 0s 1ms/step - loss: -102970.7656 - accuracy: 0.2937\n",
      "Epoch 46/50\n",
      "26/26 [==============================] - 0s 960us/step - loss: -104631.2656 - accuracy: 0.2937\n",
      "Epoch 47/50\n",
      "26/26 [==============================] - 0s 1ms/step - loss: -106317.1250 - accuracy: 0.2937\n",
      "Epoch 48/50\n",
      "26/26 [==============================] - 0s 935us/step - loss: -107997.6172 - accuracy: 0.2937\n",
      "Epoch 49/50\n",
      "26/26 [==============================] - 0s 1ms/step - loss: -109724.3203 - accuracy: 0.2937\n",
      "Epoch 50/50\n",
      "26/26 [==============================] - 0s 961us/step - loss: -111452.5156 - accuracy: 0.2937\n"
     ]
    },
    {
     "data": {
      "text/plain": [
       "<keras.callbacks.History at 0x2461a82ab90>"
      ]
     },
     "execution_count": 89,
     "metadata": {},
     "output_type": "execute_result"
    }
   ],
   "source": [
    "model.fit(x_train,y_train , batch_size=5,epochs=50)"
   ]
  },
  {
   "cell_type": "markdown",
   "metadata": {},
   "source": [
    "## Prediction"
   ]
  },
  {
   "cell_type": "code",
   "execution_count": 83,
   "metadata": {},
   "outputs": [
    {
     "name": "stdout",
     "output_type": "stream",
     "text": [
      "3/3 [==============================] - 0s 0s/step\n"
     ]
    }
   ],
   "source": [
    "prediction=model.predict(x_test)"
   ]
  },
  {
   "cell_type": "code",
   "execution_count": 84,
   "metadata": {},
   "outputs": [
    {
     "name": "stdout",
     "output_type": "stream",
     "text": [
      "[[1.]\n",
      " [1.]\n",
      " [1.]\n",
      " [1.]\n",
      " [1.]\n",
      " [1.]\n",
      " [1.]\n",
      " [1.]\n",
      " [1.]\n",
      " [1.]\n",
      " [1.]\n",
      " [1.]\n",
      " [1.]\n",
      " [1.]\n",
      " [1.]\n",
      " [1.]\n",
      " [1.]\n",
      " [1.]\n",
      " [1.]\n",
      " [1.]\n",
      " [1.]\n",
      " [1.]\n",
      " [1.]\n",
      " [1.]\n",
      " [1.]\n",
      " [1.]\n",
      " [1.]\n",
      " [1.]\n",
      " [1.]\n",
      " [1.]\n",
      " [1.]\n",
      " [1.]\n",
      " [1.]\n",
      " [1.]\n",
      " [1.]\n",
      " [1.]\n",
      " [1.]\n",
      " [1.]\n",
      " [1.]\n",
      " [1.]\n",
      " [1.]\n",
      " [1.]\n",
      " [1.]\n",
      " [1.]\n",
      " [1.]\n",
      " [1.]\n",
      " [1.]\n",
      " [1.]\n",
      " [1.]\n",
      " [1.]\n",
      " [1.]\n",
      " [1.]\n",
      " [1.]\n",
      " [1.]\n",
      " [1.]\n",
      " [1.]\n",
      " [1.]\n",
      " [1.]\n",
      " [1.]\n",
      " [1.]\n",
      " [1.]\n",
      " [1.]\n",
      " [1.]\n",
      " [1.]\n",
      " [1.]\n",
      " [1.]\n",
      " [1.]\n",
      " [1.]\n",
      " [1.]\n",
      " [1.]\n",
      " [1.]\n",
      " [1.]\n",
      " [1.]\n",
      " [1.]\n",
      " [1.]\n",
      " [1.]\n",
      " [1.]\n",
      " [1.]\n",
      " [1.]\n",
      " [1.]\n",
      " [1.]\n",
      " [1.]\n",
      " [1.]\n",
      " [1.]]\n"
     ]
    }
   ],
   "source": [
    "print(prediction)"
   ]
  },
  {
   "cell_type": "markdown",
   "metadata": {},
   "source": [
    "## Finding the Accuracy"
   ]
  },
  {
   "cell_type": "code",
   "execution_count": 85,
   "metadata": {},
   "outputs": [
    {
     "name": "stdout",
     "output_type": "stream",
     "text": [
      "Accuracy 0.39285714285714285\n"
     ]
    }
   ],
   "source": [
    "from sklearn import metrics\n",
    "print(\"Accuracy\",metrics.accuracy_score(y_test,prediction.round()))"
   ]
  },
  {
   "cell_type": "code",
   "execution_count": null,
   "metadata": {},
   "outputs": [],
   "source": []
  }
 ],
 "metadata": {
  "kernelspec": {
   "display_name": "Python 3.10.7 64-bit",
   "language": "python",
   "name": "python3"
  },
  "language_info": {
   "codemirror_mode": {
    "name": "ipython",
    "version": 3
   },
   "file_extension": ".py",
   "mimetype": "text/x-python",
   "name": "python",
   "nbconvert_exporter": "python",
   "pygments_lexer": "ipython3",
   "version": "3.10.7"
  },
  "orig_nbformat": 4,
  "vscode": {
   "interpreter": {
    "hash": "0c2bf6480126b19d8c3304a65db5cece5430896d25f5ce953a24db9bd88543a8"
   }
  }
 },
 "nbformat": 4,
 "nbformat_minor": 2
}
